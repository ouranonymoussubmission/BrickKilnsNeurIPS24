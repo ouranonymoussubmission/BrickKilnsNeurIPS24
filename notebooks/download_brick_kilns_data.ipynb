{
 "cells": [
  {
   "cell_type": "code",
   "execution_count": null,
   "metadata": {},
   "outputs": [],
   "source": [
    "import os\n",
    "from dotenv import load_dotenv\n",
    "import io\n",
    "\n",
    "import h5py\n",
    "from tqdm import tqdm\n",
    "from glob import glob\n",
    "import numpy as np\n",
    "import pandas as pd\n",
    "import xarray as xr\n",
    "import geopandas as gpd\n",
    "from shapely.geometry import Point\n",
    "from joblib import Parallel, delayed\n",
    "import matplotlib.pyplot as plt\n",
    "from IPython.display import clear_output\n",
    "import requests\n",
    "\n",
    "load_dotenv()\n"
   ]
  },
  {
   "cell_type": "code",
   "execution_count": null,
   "metadata": {},
   "outputs": [],
   "source": [
    "def get_google_maps_static_image(\n",
    "    api_key, lat_lon: str, zoom=17, scale=1, size=(224, 244), format=\"png8\", maptype=\"satellite\"\n",
    "):\n",
    "    \"\"\"Get a static image from Google Maps API.\n",
    "\n",
    "    Args:\n",
    "        api_key: API key for Google Maps API. See https://developers.google.com/maps/documentation/maps-static/get-api-key. You may first need to enable \"Google Maps Static API\" in your Google Cloud Console.\n",
    "        lat_lon: format \"lat,lon\"\n",
    "        zoom: Zoom level passed to Google Maps API.\n",
    "        scale: Scale passed to Google Maps API. If scale=2, the image will have 2x pixels for the same area.\n",
    "        size: Size of the image in pixels in (rows, columns) format.\n",
    "        format: Format of the image. See https://developers.google.com/maps/documentation/maps-static/start#ImageFormats\n",
    "        maptype: Type of map. See https://developers.google.com/maps/documentation/maps-static/start#MapTypes\n",
    "\n",
    "    Raises:\n",
    "        ValueError: If response code is not 200 or if image is not found.\n",
    "\n",
    "    Returns:\n",
    "        Image bytes.\n",
    "    \"\"\"\n",
    "    base_url = \"https://maps.googleapis.com/maps/api/staticmap\"\n",
    "    params = {\n",
    "        \"center\": lat_lon,\n",
    "        \"zoom\": zoom,\n",
    "        \"size\": f\"{size[0]}x{size[1]}\",\n",
    "        \"maptype\": maptype,\n",
    "        \"key\": api_key,\n",
    "        \"scale\": scale,\n",
    "        \"format\": format,\n",
    "    }\n",
    "    response = requests.get(base_url, params=params)\n",
    "    img = response.content\n",
    "    code = response.status_code\n",
    "    if code != 200:\n",
    "        raise ValueError(\"Request failed with code: \" + str(code) + \" and message: \" + str(img))\n",
    "    if len(img) < 1000:\n",
    "        raise ValueError(\"Image not found. Message: \" + str(img))\n",
    "    return img"
   ]
  },
  {
   "cell_type": "markdown",
   "metadata": {},
   "source": [
    "## Load boundary"
   ]
  },
  {
   "cell_type": "markdown",
   "metadata": {},
   "source": [
    "Shapefile is downloaded from: \n",
    "\n",
    "| Country/City | Link |\n",
    "| --- | --- |\n",
    "| Bangladesh | https://www.kaggle.com/datasets/tsgreen/bangladesh-administrative-boundaries-shapefiles/data |"
   ]
  },
  {
   "cell_type": "code",
   "execution_count": null,
   "metadata": {},
   "outputs": [],
   "source": [
    "geometry = 'bangladesh'\n",
    "gdf = gpd.read_file(f'/path/shapefiles/{geometry}/bgd_admbnda_adm0_bbs_20180410.shp')\n",
    "gdf.plot();"
   ]
  },
  {
   "cell_type": "markdown",
   "metadata": {},
   "source": [
    "## Create index of points to download"
   ]
  },
  {
   "cell_type": "code",
   "execution_count": null,
   "metadata": {},
   "outputs": [],
   "source": [
    "unary_shape = gdf.unary_union\n",
    "min_lon, min_lat, max_lon, max_lat = unary_shape.bounds\n",
    "print(min_lon, min_lat, max_lon, max_lat)"
   ]
  },
  {
   "cell_type": "code",
   "execution_count": null,
   "metadata": {},
   "outputs": [],
   "source": [
    "# The following gap has some overlap but it is choosen to have multiples of 0.01\n",
    "lat_gap = 0.01\n",
    "lon_gap = 0.01\n",
    "lats = np.arange(np.round(min_lat, 2)-lat_gap, np.round(max_lat, 2)+lat_gap*2, lat_gap)\n",
    "lons = np.arange(np.round(min_lon, 2)-lon_gap, np.round(max_lon, 2)+lon_gap*2, lon_gap)\n",
    "print(len(lats), len(lons), len(lats)*len(lons))"
   ]
  },
  {
   "cell_type": "code",
   "execution_count": null,
   "metadata": {},
   "outputs": [],
   "source": [
    "Lat, Lon = np.meshgrid(lats, lons)\n",
    "latlon_pairs = np.vstack([Lat.ravel(), Lon.ravel()]).T\n",
    "print(latlon_pairs.shape)"
   ]
  },
  {
   "cell_type": "markdown",
   "metadata": {},
   "source": [
    "Now, we discard the points that are not in a Geometry. We will use the `shapely` library to do this."
   ]
  },
  {
   "cell_type": "code",
   "execution_count": null,
   "metadata": {},
   "outputs": [],
   "source": [
    "point_gdf = gpd.GeoDataFrame(geometry=[Point(y, x) for x, y in latlon_pairs])\n",
    "def check_within(gdf_chunk):\n",
    "    return gdf_chunk.within(unary_shape).values\n",
    "\n",
    "chunk_size = 100\n",
    "chunks = [point_gdf[i:i+chunk_size] for i in range(0, len(point_gdf), chunk_size)]\n",
    "results = Parallel(n_jobs=48)(delayed(check_within)(chunk) for chunk in tqdm(chunks))\n",
    "latlon_bool = np.concatenate(results)\n",
    "print(len(latlon_bool), latlon_bool.sum())"
   ]
  },
  {
   "cell_type": "code",
   "execution_count": null,
   "metadata": {},
   "outputs": [],
   "source": [
    "latlon_pairs_in_geometry = latlon_pairs[latlon_bool]\n",
    "\n",
    "def convert_to_string(latlon_pair):\n",
    "    lat, lon = latlon_pair\n",
    "    return f'{lat:.2f},{lon:.2f}'\n",
    "\n",
    "latlon_pairs_in_geometry = [convert_to_string(latlon_pair) for latlon_pair in latlon_pairs_in_geometry]\n",
    "\n",
    "print(latlon_pairs_in_geometry[:3])\n",
    "print(len(latlon_pairs_in_geometry))"
   ]
  },
  {
   "cell_type": "markdown",
   "metadata": {},
   "source": [
    "## Function to download a single image"
   ]
  },
  {
   "cell_type": "code",
   "execution_count": null,
   "metadata": {},
   "outputs": [],
   "source": [
    "lat_lag = np.array([-2, -1, 0, 1, 2], dtype=np.int8)\n",
    "lon_lag = np.array([-2, -1, 0, 1, 2], dtype=np.int8)\n",
    "rows = np.array(np.arange(224), dtype=np.uint8)\n",
    "cols = np.array(np.arange(224), dtype=np.uint8)\n",
    "channels = np.array([0, 1, 2], dtype=np.uint8)\n",
    "labels = (np.zeros((5, 5)) - 1).astype(np.int8)\n",
    "path = os.path.join(os.path.expanduser(\"~\"), 'bkdb', geometry)\n",
    "save_path = \"/path/images\" # path to save the images\n",
    "key = os.getenv('SMTGML_GMS')  # put your Google Maps Static API key here\n",
    "\n",
    "def download_it(lat_lon):\n",
    "    # Download image\n",
    "    img_bytes = get_google_maps_static_image(key, lat_lon, zoom=16, size=(640, 640), scale=2)\n",
    "    img_io = io.BytesIO(img_bytes)\n",
    "    img = plt.imread(img_io)\n",
    "    \n",
    "    # Center crop to allow 5x5 patches of size 224x224x3 from 1120x1120x3\n",
    "    cut_img = img[80:-80, 80:-80, :3]\n",
    "    assert cut_img.shape == (224*5, 224*5, 3), f\"cut_img.shape = {cut_img.shape}\"\n",
    "    \n",
    "    # Save image\n",
    "    plt.imsave(os.path.join(save_path, f'{lat_lon}.png'), cut_img)"
   ]
  },
  {
   "cell_type": "markdown",
   "metadata": {},
   "source": [
    "## Download"
   ]
  },
  {
   "cell_type": "code",
   "execution_count": null,
   "metadata": {},
   "outputs": [],
   "source": [
    "n_jobs = 4 # set based on number of cores\n",
    "_ = Parallel(n_jobs=n_jobs)(delayed(download_it)(lat_lon) for lat_lon in tqdm(latlon_pairs_in_geometry))"
   ]
  }
 ],
 "metadata": {
  "kernelspec": {
   "display_name": "torch_gpu_py311",
   "language": "python",
   "name": "python3"
  },
  "language_info": {
   "codemirror_mode": {
    "name": "ipython",
    "version": 3
   },
   "file_extension": ".py",
   "mimetype": "text/x-python",
   "name": "python",
   "nbconvert_exporter": "python",
   "pygments_lexer": "ipython3",
   "version": "3.12.2"
  }
 },
 "nbformat": 4,
 "nbformat_minor": 2
}
