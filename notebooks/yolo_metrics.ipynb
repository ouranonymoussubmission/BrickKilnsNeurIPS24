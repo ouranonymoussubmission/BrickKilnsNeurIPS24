{
 "cells": [
  {
   "cell_type": "code",
   "execution_count": null,
   "metadata": {},
   "outputs": [],
   "source": [
    "import os\n",
    "os.environ[\"CUDA_VISIBLE_DEVICES\"] = \"1\"\n",
    "\n",
    "import torch\n",
    "import pandas as pd\n",
    "import numpy as np\n",
    "import numpy as np\n",
    "from os.path import join, basename, dirname, exists\n",
    "from glob import glob\n",
    "from ultralytics.utils.metrics import ConfusionMatrix\n",
    "from ultralytics.utils.ops import xywhr2xyxyxyxy, xyxyxyxy2xywhr\n",
    "from ultralytics import YOLO"
   ]
  },
  {
   "cell_type": "markdown",
   "metadata": {},
   "source": [
    "## YOLO in-house models"
   ]
  },
  {
   "cell_type": "code",
   "execution_count": null,
   "metadata": {},
   "outputs": [],
   "source": [
    "map50_fcbk = []\n",
    "map50_zigzag = []\n",
    "map75_fcbk = []\n",
    "map75_zigzag = []\n",
    "map5095_fcbk = []\n",
    "map5095_zigzag = []\n",
    "for fold in range(4):\n",
    "    epochs = 100\n",
    "    data_name = \"lucknow\" # \"lucknow\" or \"wb_grid_400\" or \"delhi\"\n",
    "    task = \"obb\" # \"obb\" or aa\"\n",
    "    suffix = \"v3\" # \"v1\" or \"v2\" or \"v3\"\n",
    "    yolo_task = \"obb\" # \"obb\" or \"detect\"\n",
    "    model = \"yolov8m-obb\"\n",
    "    gt_base_dir = \"/path/data_download_experiments/sentinel_data/crossval\"\n",
    "    pred_base_dir = \"/path/runs\"\n",
    "    data_folder = f\"{data_name}_{task}_{suffix}\"\n",
    "    experiment_name = f\"{data_folder}_model_{model}_epochs_{epochs}_sentinel_{fold}_predicted\"\n",
    "\n",
    "    model_path = join(pred_base_dir, yolo_task, experiment_name.replace(\"_predicted\", \"\"), \"weights\", \"best.pt\")\n",
    "    # model_path = \"\"\n",
    "    model = YOLO(model_path, task=\"obb\")\n",
    "    metrics = model.val(data=join(gt_base_dir, data_folder, str(fold), \"data.yml\"), imgsz=1120, save_json=True)\n",
    "    \n",
    "    # get mAP50\n",
    "    map50_fcbk.append(metrics.box.all_ap[0, 0])\n",
    "    map50_zigzag.append(metrics.box.all_ap[1, 0])\n",
    "    map75_fcbk.append(metrics.box.all_ap[0, 5])\n",
    "    map75_zigzag.append(metrics.box.all_ap[1, 5])\n",
    "    \n",
    "    # get mAP50:95\n",
    "    map5095_fcbk.append(metrics.box.all_ap.mean(axis=1)[0])\n",
    "    map5095_zigzag.append(metrics.box.all_ap.mean(axis=1)[1])\n",
    "    \n",
    "    print(\"Fold\", fold)\n",
    "    print(\"mAP50 FCBK:\", map50_fcbk[-1])\n",
    "    print(\"mAP50 Zigzag:\", map50_zigzag[-1])\n",
    "    print(\"mAP75 FCBK:\", map75_fcbk[-1])\n",
    "    print(\"mAP75 Zigzag:\", map75_zigzag[-1])\n",
    "    print(\"mAP50:95 FCBK:\", map5095_fcbk[-1])\n",
    "    print(\"mAP50:95 Zigzag:\", map5095_zigzag[-1])"
   ]
  },
  {
   "cell_type": "code",
   "execution_count": null,
   "metadata": {},
   "outputs": [],
   "source": [
    "assert len(map50_fcbk) == 3\n",
    "avg_map50_fcbk = np.mean(map50_fcbk)\n",
    "avg_map50_zigzag = np.mean(map50_zigzag)\n",
    "avg_map75_fcbk = np.mean(map75_fcbk)\n",
    "avg_map75_zigzag = np.mean(map75_zigzag)\n",
    "avg_map5095_fcbk = np.mean(map5095_fcbk)\n",
    "avg_map5095_zigzag = np.mean(map5095_zigzag)\n",
    "\n",
    "lst = [avg_map50_fcbk, avg_map50_zigzag, avg_map75_fcbk, avg_map75_zigzag, avg_map5095_fcbk, avg_map5095_zigzag]\n",
    "print(\" & \".join(map(lambda x: f\"{x:.2f}\", lst)))"
   ]
  },
  {
   "cell_type": "code",
   "execution_count": null,
   "metadata": {},
   "outputs": [],
   "source": [
    "assert len(map50_fcbk) == 3\n",
    "std_map50_fcbk = np.std(map50_fcbk)\n",
    "std_map50_zigzag = np.std(map50_zigzag)\n",
    "std_map75_fcbk = np.std(map75_fcbk)\n",
    "std_map75_zigzag = np.std(map75_zigzag)\n",
    "std_map5095_fcbk = np.std(map5095_fcbk)\n",
    "std_map5095_zigzag = np.std(map5095_zigzag)\n",
    "\n",
    "lst = [std_map50_fcbk, std_map50_zigzag, std_map75_fcbk, std_map75_zigzag, std_map5095_fcbk, std_map5095_zigzag]\n",
    "print(\" & \".join(map(lambda x: f\"{x:.2f}\", lst)))"
   ]
  },
  {
   "cell_type": "code",
   "execution_count": null,
   "metadata": {},
   "outputs": [],
   "source": [
    "means = [avg_map50_fcbk, avg_map50_zigzag, avg_map5095_fcbk, avg_map5095_zigzag]\n",
    "stds = [std_map50_fcbk, std_map50_zigzag,  std_map5095_fcbk, std_map5095_zigzag]\n",
    "result = \" & \".join([f\"{mean:.2f} $\\pm$ {std:.2f}\" for mean, std in zip(means, stds)])\n",
    "print(result)"
   ]
  },
  {
   "cell_type": "markdown",
   "metadata": {},
   "source": [
    "## Outside the region evaluation"
   ]
  },
  {
   "cell_type": "code",
   "execution_count": null,
   "metadata": {},
   "outputs": [],
   "source": [
    "map50_fcbk = []\n",
    "map50_zigzag = []\n",
    "map75_fcbk = []\n",
    "map75_zigzag = []\n",
    "map5095_fcbk = []\n",
    "map5095_zigzag = []\n",
    "\n",
    "epochs = 100\n",
    "data_name = \"lucknow\"\n",
    "task = \"obb\"\n",
    "suffix = \"v3\"\n",
    "yolo_task = \"obb\"\n",
    "model = \"yolov8l-obb\"\n",
    "gt_base_dir = \"/path/kilns_neurips24/processed_data\"\n",
    "pred_base_dir = \"/path/kilns_neurips24/runs/\"\n",
    "train_data_folder = f\"lucknow_{task}_v3\"\n",
    "test_data_folder = f\"wb_grid_400_{task}_v1\"\n",
    "train_experiment_name = f\"{train_data_folder}_model_{model}_epochs_{epochs}\"\n",
    "\n",
    "model = YOLO(join(pred_base_dir, yolo_task, train_experiment_name, \"weights\", \"best.pt\"), task=yolo_task)\n",
    "metrics = model.val(data=join(gt_base_dir, test_data_folder, \"data.yml\"), imgsz=1120, save_json=True)\n",
    "\n",
    "# get mAP50\n",
    "map50_fcbk.append(metrics.box.all_ap[0, 0])\n",
    "map50_zigzag.append(metrics.box.all_ap[1, 0])\n",
    "map75_fcbk.append(metrics.box.all_ap[0, 5])\n",
    "map75_zigzag.append(metrics.box.all_ap[1, 5])\n",
    "\n",
    "# get mAP50:95\n",
    "map5095_fcbk.append(metrics.box.all_ap.mean(axis=1)[0])\n",
    "map5095_zigzag.append(metrics.box.all_ap.mean(axis=1)[1])\n",
    "\n",
    "print(\"mAP50 FCBK:\", map50_fcbk[-1])\n",
    "print(\"mAP50 Zigzag:\", map50_zigzag[-1])\n",
    "print(\"mAP75 FCBK:\", map75_fcbk[-1])\n",
    "print(\"mAP75 Zigzag:\", map75_zigzag[-1])\n",
    "print(\"mAP50:95 FCBK:\", map5095_fcbk[-1])\n",
    "print(\"mAP50:95 Zigzag:\", map5095_zigzag[-1])"
   ]
  },
  {
   "cell_type": "code",
   "execution_count": null,
   "metadata": {},
   "outputs": [],
   "source": [
    "avg_map50_fcbk = np.mean(map50_fcbk)\n",
    "avg_map50_zigzag = np.mean(map50_zigzag)\n",
    "avg_map75_fcbk = np.mean(map75_fcbk)\n",
    "avg_map75_zigzag = np.mean(map75_zigzag)\n",
    "avg_map5095_fcbk = np.mean(map5095_fcbk)\n",
    "avg_map5095_zigzag = np.mean(map5095_zigzag)\n",
    "\n",
    "lst = [avg_map50_fcbk, avg_map50_zigzag, avg_map75_fcbk, avg_map75_zigzag, avg_map5095_fcbk, avg_map5095_zigzag]\n",
    "print(\" & \".join(map(lambda x: f\"{x:.2f}\", lst)))"
   ]
  }
 ],
 "metadata": {
  "kernelspec": {
   "display_name": "zeel_py311",
   "language": "python",
   "name": "python3"
  },
  "language_info": {
   "codemirror_mode": {
    "name": "ipython",
    "version": 3
   },
   "file_extension": ".py",
   "mimetype": "text/x-python",
   "name": "python",
   "nbconvert_exporter": "python",
   "pygments_lexer": "ipython3",
   "version": "3.11.8"
  }
 },
 "nbformat": 4,
 "nbformat_minor": 2
}
