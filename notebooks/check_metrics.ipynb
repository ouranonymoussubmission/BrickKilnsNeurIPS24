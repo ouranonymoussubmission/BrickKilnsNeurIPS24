{
 "cells": [
  {
   "cell_type": "markdown",
   "metadata": {},
   "source": [
    "Calculating Mean Average Precision from yolo format txt files"
   ]
  },
  {
   "cell_type": "code",
   "execution_count": 1,
   "metadata": {},
   "outputs": [],
   "source": [
    "import glob,os\n",
    "import numpy as np\n",
    "import supervision as sv\n",
    "import pandas as pd\n",
    "import warnings\n",
    "warnings.filterwarnings('ignore', category = FutureWarning)\n",
    "pd.set_option('mode.chained_assignment', None)"
   ]
  },
  {
   "cell_type": "code",
   "execution_count": 2,
   "metadata": {},
   "outputs": [],
   "source": [
    "# ground truth path\n",
    "gt_path = '/home/ruser/data_download_experiments/sentinel_data/crossval/lucknow_sarath_grid_aa_v3/'\n",
    "# prediction path\n",
    "pred_path = '/home/vuser/brick_kilns/yolov10/'"
   ]
  },
  {
   "cell_type": "code",
   "execution_count": 3,
   "metadata": {},
   "outputs": [],
   "source": [
    "def box_iou_batch(\n",
    "\tboxes_a: np.ndarray, boxes_b: np.ndarray\n",
    ") -> np.ndarray:\n",
    "\n",
    "    def box_area(box):\n",
    "        return (box[2] - box[0]) * (box[3] - box[1])\n",
    "\n",
    "    area_a = box_area(boxes_a.T)\n",
    "    area_b = box_area(boxes_b.T)\n",
    "\n",
    "    top_left = np.maximum(boxes_a[:, None, :2], boxes_b[:, :2])\n",
    "    bottom_right = np.minimum(boxes_a[:, None, 2:], boxes_b[:, 2:])\n",
    "\n",
    "    area_inter = np.prod(\n",
    "    \tnp.clip(bottom_right - top_left, a_min=0, a_max=None), 2)\n",
    "        \n",
    "    return area_inter / (area_a[:, None] + area_b - area_inter)"
   ]
  },
  {
   "cell_type": "code",
   "execution_count": 4,
   "metadata": {},
   "outputs": [],
   "source": [
    "def non_max_suppression(\n",
    "   predictions: np.ndarray, iou_threshold: float = 0.5\n",
    ") -> np.ndarray:\n",
    "    rows, columns = predictions.shape\n",
    "    sort_index = np.flip(predictions[:, 5].argsort())\n",
    "    predictions = predictions[sort_index]\n",
    "    boxes = predictions[:, :4]\n",
    "    categories = predictions[:, 4]\n",
    "    ious = box_iou_batch(boxes, boxes)\n",
    "    ious = ious - np.eye(rows)\n",
    "\n",
    "    keep = np.ones(rows, dtype=bool)\n",
    "\n",
    "    for index, (iou, category) in enumerate(zip(ious, categories)):\n",
    "        if not keep[index]:\n",
    "            continue\n",
    "\n",
    "        condition = (iou > iou_threshold) & (categories == category)\n",
    "        keep = keep & ~condition\n",
    "\n",
    "    return keep[sort_index.argsort()]\n"
   ]
  },
  {
   "cell_type": "code",
   "execution_count": 5,
   "metadata": {},
   "outputs": [],
   "source": [
    "def xyxy(arr, type = None):\n",
    "    # arr -- numpy array (n x 6)\n",
    "    tmp = []\n",
    "    for x in arr:\n",
    "        actual_w = x[3] * 1120\n",
    "        actual_h = x[4] * 1120\n",
    "        actual_x_c = x[1] * 1120\n",
    "        actual_y_c = x[2] * 1120\n",
    "        xmin , ymin =  actual_x_c - (actual_w/2), actual_y_c - (actual_h/2)\n",
    "        xmax, ymax = actual_x_c + (actual_w/2), actual_y_c + (actual_h/2)\n",
    "        if type == 'P':\n",
    "            tmp.append([xmin, ymin, xmax, ymax, x[0], x[-1]]) # xmin, xmax, ymin,ymax, class, conf\n",
    "        else:\n",
    "            tmp.append([xmin, ymin, xmax, ymax, x[0]])\n",
    "\n",
    "    return np.array(tmp)\n",
    "    "
   ]
  },
  {
   "cell_type": "code",
   "execution_count": 6,
   "metadata": {},
   "outputs": [],
   "source": [
    "df = pd.DataFrame(columns = ['map50','map75','map50-95'], index = ['overall', 'FCBK', 'Zigzag'])"
   ]
  },
  {
   "cell_type": "code",
   "execution_count": 7,
   "metadata": {},
   "outputs": [
    {
     "name": "stdout",
     "output_type": "stream",
     "text": [
      "Fold 0\n",
      "            map50     map75  map50-95\n",
      "overall  0.309407  0.042006   0.11775\n",
      "FCBK     0.197696    0.0446  0.080082\n",
      "Zigzag   0.421118  0.039412  0.155419\n",
      "\n",
      "Fold 1\n",
      "            map50     map75  map50-95\n",
      "overall  0.355014   0.09625  0.136767\n",
      "FCBK     0.190324  0.089904  0.093936\n",
      "Zigzag   0.519703  0.102597  0.179597\n",
      "\n",
      "Fold 2\n",
      "            map50     map75  map50-95\n",
      "overall  0.397598   0.06595  0.147619\n",
      "FCBK     0.244181  0.027626  0.080733\n",
      "Zigzag   0.551016  0.104274  0.214504\n",
      "\n",
      "Fold 3\n",
      "            map50     map75  map50-95\n",
      "overall  0.401938  0.072842  0.144298\n",
      "FCBK     0.247015  0.038776  0.098263\n",
      "Zigzag    0.55686  0.106908  0.190332\n",
      "\n"
     ]
    }
   ],
   "source": [
    "a = []\n",
    "nms = False\n",
    "num_folds = 4\n",
    "for fold in range(num_folds):\n",
    "    gt_dir = f'{gt_path}/{fold}/test/labels'\n",
    "    pred_dir = f'{pred_path}/lucknow_sentinel_pred/{fold}-2'\n",
    "\n",
    "    # gt_dir = f'{gt_path}/{fold}/val/labels/'\n",
    "    # pred_dir = f'{pred_path}/'\n",
    "\n",
    "    gt_files = glob.glob(os.path.join(gt_dir,'*.txt'))\n",
    "    pred_files = glob.glob(os.path.join(pred_dir,'*.txt'))\n",
    "    # gt_files,pred_files = gt_files[:1], pred_files[:1]\n",
    "\n",
    "    gt_results = []\n",
    "    pred_files = []\n",
    "    pred_results = []\n",
    "    info = False\n",
    "\n",
    "    for i in range(len(gt_files)):\n",
    "        # gt_results.append(xyxy(np.loadtxt(gt_files[i], ndmin= 2)))\n",
    "        file_name = os.path.basename(gt_files[i])\n",
    "        corresponding_pred_file = os.path.join(pred_dir, file_name)\n",
    "        if os.path.exists(corresponding_pred_file):\n",
    "            pred_files.append(corresponding_pred_file)\n",
    "            gt_results.append(xyxy(np.loadtxt(gt_files[i], ndmin= 2)))\n",
    "        # else:\n",
    "        #     pred_files.append(None)\n",
    "\n",
    "    # for f in pred_files:\n",
    "    #     if f == None:\n",
    "    #         print(f)\n",
    "\n",
    "    if nms:\n",
    "        for i in range(len(pred_files)):\n",
    "            # if pred_files[i] == None:\n",
    "            #     continue\n",
    "            results = np.loadtxt(pred_files[i], ndmin= 2) # load all predictions of single image\n",
    "            bool_list = non_max_suppression(xyxy(results, type = 'P')) #apply non max suppression\n",
    "            best_boxes = []\n",
    "            for i, element in enumerate(bool_list):\n",
    "                if element:\n",
    "                    best_boxes.append(results[i]) # add bbox with highest IOU and highest score\n",
    "            pred_results.append(xyxy(best_boxes, type = 'P'))\n",
    "            \n",
    "\n",
    "    else:\n",
    "        for i in range(len(pred_files)):\n",
    "            if pred_files[i] == None:\n",
    "                continue\n",
    "            pred_results.append(xyxy(np.loadtxt(pred_files[i], ndmin= 2), type='P'))\n",
    "\n",
    "\n",
    "    if info:\n",
    "        print(f'No of GT images in Fold {fold}:', len(gt_results))\n",
    "        print(f'No of bbox in one GT image in Fold {fold}', len(gt_results[0]), type(gt_results[0]))\n",
    "        print('No of Pred images:', len(pred_results))\n",
    "        print('No of predictions in one GT image', len(pred_results[0]), type(pred_results[0]))\n",
    "        print('Shape of predictions in one GT image',pred_results[0].shape)\n",
    "\n",
    "    #Finding mean average precision\n",
    "    mean_average_precison = sv.MeanAveragePrecision.from_tensors(\n",
    "                predictions= pred_results,\n",
    "                targets= gt_results,\n",
    "            )\n",
    "    # print(mean_average_precison)\n",
    "    map_fcbk , map_zigzag = mean_average_precison.per_class_ap50_95.mean(axis = 1)\n",
    "    df = df.copy()\n",
    "    df.loc['overall']['map50'] = mean_average_precison.map50\n",
    "    df.loc['overall']['map75'] = mean_average_precison.per_class_ap50_95[:,5].mean()\n",
    "    df.loc['overall']['map50-95'] = mean_average_precison.map50_95\n",
    "    df.loc['FCBK']['map50'] = mean_average_precison.per_class_ap50_95[:,0][0]\n",
    "    df.loc['FCBK']['map75'] = mean_average_precison.per_class_ap50_95[:,5][0]\n",
    "    df.loc['FCBK']['map50-95'] = map_fcbk\n",
    "    df.loc['Zigzag']['map50'] = mean_average_precison.per_class_ap50_95[:,0][1]\n",
    "    df.loc['Zigzag']['map75'] = mean_average_precison.per_class_ap50_95[:,5][1]\n",
    "    df.loc['Zigzag']['map50-95'] = map_zigzag\n",
    "    print(f'Fold {fold}')\n",
    "    print(df,end = '\\n\\n')\n",
    "\n",
    "    a.append(df)\n",
    "    # print(a)"
   ]
  },
  {
   "cell_type": "code",
   "execution_count": 8,
   "metadata": {},
   "outputs": [
    {
     "name": "stdout",
     "output_type": "stream",
     "text": [
      "Combined MAP of all folds \n"
     ]
    },
    {
     "data": {
      "text/html": [
       "<div>\n",
       "<style scoped>\n",
       "    .dataframe tbody tr th:only-of-type {\n",
       "        vertical-align: middle;\n",
       "    }\n",
       "\n",
       "    .dataframe tbody tr th {\n",
       "        vertical-align: top;\n",
       "    }\n",
       "\n",
       "    .dataframe thead th {\n",
       "        text-align: right;\n",
       "    }\n",
       "</style>\n",
       "<table border=\"1\" class=\"dataframe\">\n",
       "  <thead>\n",
       "    <tr style=\"text-align: right;\">\n",
       "      <th></th>\n",
       "      <th>map50</th>\n",
       "      <th>map75</th>\n",
       "      <th>map50-95</th>\n",
       "    </tr>\n",
       "  </thead>\n",
       "  <tbody>\n",
       "    <tr>\n",
       "      <th>overall</th>\n",
       "      <td>0.365989</td>\n",
       "      <td>0.069262</td>\n",
       "      <td>0.136608</td>\n",
       "    </tr>\n",
       "    <tr>\n",
       "      <th>FCBK</th>\n",
       "      <td>0.219804</td>\n",
       "      <td>0.050226</td>\n",
       "      <td>0.088254</td>\n",
       "    </tr>\n",
       "    <tr>\n",
       "      <th>Zigzag</th>\n",
       "      <td>0.512174</td>\n",
       "      <td>0.088298</td>\n",
       "      <td>0.184963</td>\n",
       "    </tr>\n",
       "  </tbody>\n",
       "</table>\n",
       "</div>"
      ],
      "text/plain": [
       "            map50     map75  map50-95\n",
       "overall  0.365989  0.069262  0.136608\n",
       "FCBK     0.219804  0.050226  0.088254\n",
       "Zigzag   0.512174  0.088298  0.184963"
      ]
     },
     "execution_count": 8,
     "metadata": {},
     "output_type": "execute_result"
    }
   ],
   "source": [
    "print('Combined MAP of all folds ')\n",
    "(a[0]+a[1]+a[2]+a[3])/num_folds\n"
   ]
  },
  {
   "cell_type": "code",
   "execution_count": 10,
   "metadata": {},
   "outputs": [
    {
     "name": "stdout",
     "output_type": "stream",
     "text": [
      "{'map50': {'FCBK': (0.2198040824145684, 0.025944617520327475), 'Zigzag': (0.5121741517090259, 0.054436837884349644)}, 'map75': {'FCBK': (0.05022648850825275, 0.02370587892358508), 'Zigzag': (0.08829754341697102, 0.028266035714385938)}, 'map50-95': {'FCBK': (0.088253703423568, 0.007996905067489433), 'Zigzag': (0.1849629572298537, 0.02123169878432321)}}\n"
     ]
    }
   ],
   "source": [
    "# standard deviation\n",
    "mean_and_std = {}\n",
    "maps = [\"map50\", \"map75\", \"map50-95\"]\n",
    "for map in maps:\n",
    "    mean_and_std[map] = {}\n",
    "    for i in range(2):\n",
    "        if i==0:\n",
    "            type = 'FCBK'\n",
    "        else:\n",
    "            type = 'Zigzag'\n",
    "        values = []\n",
    "        for j in range(4):\n",
    "            values.append(a[j].loc[type][map])\n",
    "        # print(values)\n",
    "        mean_and_std[map][type] = (np.mean(values), np.std(values))\n",
    "\n",
    "\n",
    "print(mean_and_std)\n",
    "\n"
   ]
  },
  {
   "cell_type": "code",
   "execution_count": 11,
   "metadata": {},
   "outputs": [
    {
     "data": {
      "text/html": [
       "<div>\n",
       "<style scoped>\n",
       "    .dataframe tbody tr th:only-of-type {\n",
       "        vertical-align: middle;\n",
       "    }\n",
       "\n",
       "    .dataframe tbody tr th {\n",
       "        vertical-align: top;\n",
       "    }\n",
       "\n",
       "    .dataframe thead th {\n",
       "        text-align: right;\n",
       "    }\n",
       "</style>\n",
       "<table border=\"1\" class=\"dataframe\">\n",
       "  <thead>\n",
       "    <tr style=\"text-align: right;\">\n",
       "      <th></th>\n",
       "      <th>map50</th>\n",
       "      <th>map75</th>\n",
       "      <th>map50-95</th>\n",
       "    </tr>\n",
       "  </thead>\n",
       "  <tbody>\n",
       "    <tr>\n",
       "      <th>FCBK</th>\n",
       "      <td>(0.2198040824145684, 0.025944617520327475)</td>\n",
       "      <td>(0.05022648850825275, 0.02370587892358508)</td>\n",
       "      <td>(0.088253703423568, 0.007996905067489433)</td>\n",
       "    </tr>\n",
       "    <tr>\n",
       "      <th>Zigzag</th>\n",
       "      <td>(0.5121741517090259, 0.054436837884349644)</td>\n",
       "      <td>(0.08829754341697102, 0.028266035714385938)</td>\n",
       "      <td>(0.1849629572298537, 0.02123169878432321)</td>\n",
       "    </tr>\n",
       "  </tbody>\n",
       "</table>\n",
       "</div>"
      ],
      "text/plain": [
       "                                             map50  \\\n",
       "FCBK    (0.2198040824145684, 0.025944617520327475)   \n",
       "Zigzag  (0.5121741517090259, 0.054436837884349644)   \n",
       "\n",
       "                                              map75  \\\n",
       "FCBK     (0.05022648850825275, 0.02370587892358508)   \n",
       "Zigzag  (0.08829754341697102, 0.028266035714385938)   \n",
       "\n",
       "                                         map50-95  \n",
       "FCBK    (0.088253703423568, 0.007996905067489433)  \n",
       "Zigzag  (0.1849629572298537, 0.02123169878432321)  "
      ]
     },
     "execution_count": 11,
     "metadata": {},
     "output_type": "execute_result"
    }
   ],
   "source": [
    "df2 = pd.DataFrame(mean_and_std, index = ['FCBK', 'Zigzag'])\n",
    "df2"
   ]
  }
 ],
 "metadata": {
  "kernelspec": {
   "display_name": "shataxi_space",
   "language": "python",
   "name": "python3"
  },
  "language_info": {
   "codemirror_mode": {
    "name": "ipython",
    "version": 3
   },
   "file_extension": ".py",
   "mimetype": "text/x-python",
   "name": "python",
   "nbconvert_exporter": "python",
   "pygments_lexer": "ipython3",
   "version": "3.11.7"
  }
 },
 "nbformat": 4,
 "nbformat_minor": 2
}
